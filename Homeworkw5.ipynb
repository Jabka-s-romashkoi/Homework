{
 "cells": [
  {
   "cell_type": "markdown",
   "metadata": {},
   "source": [
    "1. What does Pandas stand for? \n",
    "# #An open-source Python package that is most widely used for data science/data analysis and machine learning tasks.\n",
    "\n",
    "2. What are the 2 collections used in Pandas?\\\n",
    "# #Series and Data Frame\n",
    "3. Name 4 things Pandas can do for us.\n",
    "# #open files (csv,sql,exel)load\n",
    "# manipulate\n",
    "# prepare\n",
    "# model\n",
    "\n",
    "4. To permanently sort a DataFrame, which keyword should one use with the `df.sort()` method?\n",
    "inplace \n",
    "5. What is a CSV?\n",
    "# #comma separated files\n",
    "6. When cleaning data what values do we not like in our data?\n",
    "# #null(dropna) duplicates (drop.duplacates)\n"
   ]
  },
  {
   "cell_type": "code",
   "execution_count": 1,
   "metadata": {},
   "outputs": [
    {
     "name": "stdout",
     "output_type": "stream",
     "text": [
      "[ 0.  4.  8. 12. 16. 20.]\n"
     ]
    }
   ],
   "source": [
    "#7. Import NumPy, use one of the NumPy methods and create an array with a shape of (2, 3, 2). You can use the reshape method -- `.reshape()`\n",
    "import numpy as np\n",
    "import copy\n",
    "#8\n",
    "#my_list = np.arange(12).reshape((2, 3 ,2))\n",
    "#my_copylist = copy.deepcopy(my_list)\n",
    "\n",
    "#print('Original \\n', my_list)\n",
    "#print('\\n copy \\n', my_copylist)\n",
    "\n",
    "my_array = np.linspace(0,20,6)\n",
    "\n",
    "print(my_array)"
   ]
  },
  {
   "cell_type": "code",
   "execution_count": 7,
   "metadata": {},
   "outputs": [
    {
     "name": "stdout",
     "output_type": "stream",
     "text": [
      "a =  [[25, 16]]\n",
      "b =  ([[25, 16]], [[11, 2], [13, 4]], [[7, 81], [5, 6], [11, 12]])\n",
      "c =  [[7, 81], [5, 6], [11, 12]]\n",
      "\n",
      "concanate \n",
      " [[25 16]\n",
      " [11  2]\n",
      " [13  4]\n",
      " [ 7 81]\n",
      " [ 5  6]\n",
      " [11 12]]\n",
      "[ 2  4  5  6  7 11 11 12 13 16 25 81]\n"
     ]
    }
   ],
   "source": [
    "#9\n",
    "new_array1 = ([[ 25, 16] ],\n",
    "              [[11, 2], [13, 4]],\n",
    "              [ [7, 81], [5, 6], [11, 12]])\n",
    "\n",
    "a, b, c = new_array1\n",
    "print('a = ', a)\n",
    "print('b = ', new_array1)\n",
    "print('c = ', c)\n",
    " \n",
    "cArray = np.concatenate((a, b, c), axis = 0)\n",
    "print('\\nconcanate \\n', cArray)\n",
    "\n",
    "#11\n",
    "sortedAAAArray = np.sort(cArray, axis =None)\n",
    "print(sortedAAAArray)"
   ]
  },
  {
   "cell_type": "code",
   "execution_count": 8,
   "metadata": {},
   "outputs": [
    {
     "name": "stdout",
     "output_type": "stream",
     "text": [
      "  Ingredients  Quantity   Unit\n",
      "0       Flour         4   cups\n",
      "1        Milk         1    cup\n",
      "2        Eggs         2  large\n",
      "3        Spam         1    can\n"
     ]
    }
   ],
   "source": [
    "#12\n",
    "import pandas as pd\n",
    "\n",
    "Ingredients = pd.Series(['Flour', 'Milk', 'Eggs', 'Spam'], name = 'Ingredients')\n",
    "Quantity = pd.Series([4, 1, 2, 1], name = 'Quantity' )\n",
    "Unit = pd.Series(['cups', 'cup', 'large', 'can'], name ='Unit')\n",
    "df =pd.concat([Ingredients, Quantity, Unit], axis = 1)\n",
    "print(df)\n"
   ]
  },
  {
   "cell_type": "code",
   "execution_count": 9,
   "metadata": {},
   "outputs": [
    {
     "name": "stdout",
     "output_type": "stream",
     "text": [
      "      Name  Height Qualification  address  Age        Pets           sport\n",
      "0      Jai     5.1           Msc    Delhi   21         Dog           Darts\n",
      "1  janusha     6.2            MA     Doha   23       Bunny      Basketball\n",
      "2   Gaurav     5.1           Msc  Chennai   24  Chinchilla  PaddleBoarding\n",
      "3     Anuj     5.2           Msc   Dakhar   21      Parrot         Cricket\n",
      "      Name  Height Qualification  address  Age        Pets           sport  \\\n",
      "0      Jai     5.1           Msc    Delhi   21         Dog           Darts   \n",
      "1  janusha     6.2            MA     Doha   23       Bunny      Basketball   \n",
      "2   Gaurav     5.1           Msc  Chennai   24  Chinchilla  PaddleBoarding   \n",
      "3     Anuj     5.2           Msc   Dakhar   21      Parrot         Cricket   \n",
      "\n",
      "        Deserts  \n",
      "0     ice cream  \n",
      "1  Cashew Fudge  \n",
      "2       waffels  \n",
      "3  Carrot Halwa  \n",
      "\n",
      "Student Data sorted..\n",
      "       Name  Height Qualification  address  Age        Pets           sport  \\\n",
      "3     Anuj     5.2           Msc   Dakhar   21      Parrot         Cricket   \n",
      "2   Gaurav     5.1           Msc  Chennai   24  Chinchilla  PaddleBoarding   \n",
      "0      Jai     5.1           Msc    Delhi   21         Dog           Darts   \n",
      "1  janusha     6.2            MA     Doha   23       Bunny      Basketball   \n",
      "\n",
      "        Deserts  \n",
      "3  Carrot Halwa  \n",
      "2       waffels  \n",
      "0     ice cream  \n",
      "1  Cashew Fudge  \n"
     ]
    }
   ],
   "source": [
    "#13\n",
    "Data = {'Name': ['Jai', 'janusha', 'Gaurav', 'Anuj'],\n",
    "            'Height': [5.1, 6.2, 5.1, 5.2],\n",
    "            'Qualification': ['Msc', 'MA', 'Msc', 'Msc'],\n",
    "            'address': ['Delhi', 'Doha', 'Chennai', 'Dakhar'],\n",
    "            'Age': [21, 23, 24, 21],\n",
    "            'Pets': ['Dog', 'Bunny', 'Chinchilla', 'Parrot'],\n",
    "            'sport': ['Darts', 'Basketball', 'PaddleBoarding', 'Cricket'],\n",
    "        }\n",
    "studentData = pd.DataFrame(Data)\n",
    "print(studentData)\n",
    "#14\n",
    "deserts = [\"ice cream\", \"Cashew Fudge\", \"waffels\", \"Carrot Halwa\"]\n",
    "studentData['Deserts'] = deserts\n",
    "print(studentData)\n",
    "\n",
    "#15\n",
    "studentData.sort_values(by = ['Name', 'address'], inplace=True)\n",
    "print('\\nStudent Data sorted..\\n', studentData)\n"
   ]
  },
  {
   "cell_type": "code",
   "execution_count": 10,
   "metadata": {},
   "outputs": [],
   "source": [
    "#16\n",
    "df = pd.DataFrame({'Cows': [12, 20], 'Goats': [22, 19]}, index=['Year 1', 'Year 2'])\n",
    "\n",
    "df.to_csv('cows_and_goats.csv')"
   ]
  },
  {
   "cell_type": "code",
   "execution_count": 11,
   "metadata": {},
   "outputs": [],
   "source": [
    "#17\n",
    "\n",
    "vegetables = pd.DataFrame({'Cucumbers': [14],\n",
    "                           'Tomatoes': [11],\n",
    "                           'Onion': [1]}, index=['Quantity1', 'Quantity2', 'Quantity3'])\n",
    "\n",
    "vegetables.to_csv('Vegetables')"
   ]
  }
 ],
 "metadata": {
  "kernelspec": {
   "display_name": "Python 3",
   "language": "python",
   "name": "python3"
  },
  "language_info": {
   "codemirror_mode": {
    "name": "ipython",
    "version": 3
   },
   "file_extension": ".py",
   "mimetype": "text/x-python",
   "name": "python",
   "nbconvert_exporter": "python",
   "pygments_lexer": "ipython3",
   "version": "3.12.5"
  }
 },
 "nbformat": 4,
 "nbformat_minor": 2
}
