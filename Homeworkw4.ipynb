{
 "cells": [
  {
   "cell_type": "markdown",
   "metadata": {},
   "source": [
    "1. use \"import\" and \"as\" or 'from'\n",
    "2. Math module\n",
    "3.\n",
    "4.\n",
    "5. list\n",
    "6. faster, less memory, convenient\n",
    "7. same date type (float, int)\n",
    "8. math, average value\n",
    "9.Pandas\n",
    "10.\n",
    "11.array with 3 and more dimension\n",
    "12. fixation, speed, functional\n",
    "13.np.zero()\n",
    "np.one()\n",
    "np.empty()\n"
   ]
  },
  {
   "cell_type": "code",
   "execution_count": 5,
   "metadata": {},
   "outputs": [
    {
     "name": "stdout",
     "output_type": "stream",
     "text": [
      "sum is  10.0\n"
     ]
    }
   ],
   "source": [
    "#  task 2\n",
    "import math\n",
    "\n",
    "my_list = [1,2,3,4]\n",
    "print('sum is ', math.fsum(my_list))"
   ]
  },
  {
   "cell_type": "code",
   "execution_count": 6,
   "metadata": {},
   "outputs": [
    {
     "name": "stdout",
     "output_type": "stream",
     "text": [
      "Renting a car is very expensive.\"\n"
     ]
    }
   ],
   "source": [
    "age = 23\n",
    "\n",
    "if age >= 25:\n",
    "    print('Renting a car is more affordable')\n",
    "else:\n",
    "    print('Renting a car is very expensive.\"')"
   ]
  },
  {
   "cell_type": "code",
   "execution_count": 7,
   "metadata": {},
   "outputs": [
    {
     "name": "stdout",
     "output_type": "stream",
     "text": [
      "Renting a car is very expensive.\n"
     ]
    }
   ],
   "source": [
    "if age >= 25:\n",
    "    print(\"Renting a car is more affordable.\")\n",
    "elif 25 > age >= 18:\n",
    "    print(\"Renting a car is very expensive.\")\n",
    "else:\n",
    "    print(\"You cannot legally rent a car.\")"
   ]
  },
  {
   "cell_type": "code",
   "execution_count": 26,
   "metadata": {},
   "outputs": [
    {
     "name": "stdout",
     "output_type": "stream",
     "text": [
      "e\n",
      "u\n",
      "i\n",
      "o\n",
      "o\n",
      "u\n",
      "o\n",
      "e\n",
      "e\n",
      "a\n",
      "o\n"
     ]
    }
   ],
   "source": [
    "a = \"The quick brown fox jumps over the lazy dog\"\n",
    "\n",
    "for letter in a:\n",
    "    if letter in \"aeiouAEIOU\":\n",
    "        print(letter)\n"
   ]
  },
  {
   "cell_type": "code",
   "execution_count": 27,
   "metadata": {},
   "outputs": [
    {
     "name": "stdout",
     "output_type": "stream",
     "text": [
      "trousers in auburn\n",
      "trousers in gunmetal blue\n",
      "trousers in fuchsia\n",
      "trousers in Dark Sapphire\n",
      "trousers in burnt sienna\n",
      "trousers in cerise\n",
      "trousers in maple\n",
      "trousers in aqua\n",
      "blouse in auburn\n",
      "blouse in gunmetal blue\n",
      "blouse in fuchsia\n",
      "blouse in Dark Sapphire\n",
      "blouse in burnt sienna\n",
      "blouse in cerise\n",
      "blouse in maple\n",
      "blouse in aqua\n",
      "bandana in auburn\n",
      "bandana in gunmetal blue\n",
      "bandana in fuchsia\n",
      "bandana in Dark Sapphire\n",
      "bandana in burnt sienna\n",
      "bandana in cerise\n",
      "bandana in maple\n",
      "bandana in aqua\n",
      "cumber band in auburn\n",
      "cumber band in gunmetal blue\n",
      "cumber band in fuchsia\n",
      "cumber band in Dark Sapphire\n",
      "cumber band in burnt sienna\n",
      "cumber band in cerise\n",
      "cumber band in maple\n",
      "cumber band in aqua\n",
      "blazer in auburn\n",
      "blazer in gunmetal blue\n",
      "blazer in fuchsia\n",
      "blazer in Dark Sapphire\n",
      "blazer in burnt sienna\n",
      "blazer in cerise\n",
      "blazer in maple\n",
      "blazer in aqua\n",
      "vest in auburn\n",
      "vest in gunmetal blue\n",
      "vest in fuchsia\n",
      "vest in Dark Sapphire\n",
      "vest in burnt sienna\n",
      "vest in cerise\n",
      "vest in maple\n",
      "vest in aqua\n",
      "french beret in auburn\n",
      "french beret in gunmetal blue\n",
      "french beret in fuchsia\n",
      "french beret in Dark Sapphire\n",
      "french beret in burnt sienna\n",
      "french beret in cerise\n",
      "french beret in maple\n",
      "french beret in aqua\n",
      "scarf in auburn\n",
      "scarf in gunmetal blue\n",
      "scarf in fuchsia\n",
      "scarf in Dark Sapphire\n",
      "scarf in burnt sienna\n",
      "scarf in cerise\n",
      "scarf in maple\n",
      "scarf in aqua\n",
      "stole in auburn\n",
      "stole in gunmetal blue\n",
      "stole in fuchsia\n",
      "stole in Dark Sapphire\n",
      "stole in burnt sienna\n",
      "stole in cerise\n",
      "stole in maple\n",
      "stole in aqua\n"
     ]
    }
   ],
   "source": [
    "couture = [\"trousers\", \"blouse\", \"bandana\", \"cumber band\", \"blazer\", \"vest\", \"french beret\", \"scarf\", \"stole\"]\n",
    "panettone = {\"cerise\", \"fuchsia\", \"aqua\", \"maple\", \"auburn\", \"burnt sienna\", \"gunmetal blue\", \"Dark Sapphire\"}\n",
    "\n",
    "mix_list = list(panettone)\n",
    "\n",
    "for item in couture:\n",
    "    for color in mix_list:\n",
    "        print(f\"{item} in {color}\")\n"
   ]
  },
  {
   "cell_type": "code",
   "execution_count": 28,
   "metadata": {},
   "outputs": [
    {
     "name": "stdout",
     "output_type": "stream",
     "text": [
      "summ [1, 2, 3, 4, 5, 6, 7, 8, 9, 10, 11, 12, 13, 14, 15, 16, 17, 18, 19, 20, 21, 22, 23, 24, 25, 26, 27, 28, 29, 30, 31, 32, 33, 34, 35, 36, 37, 38, 39, 40, 41, 42, 43, 44, 45, 46, 47, 48, 49, 50, 51, 52, 53, 54, 55, 56, 57, 58, 59, 60, 61, 62, 63, 64, 65, 66, 67, 68, 69, 70, 71, 72, 73, 74, 75, 76, 77, 78, 79, 80, 81, 82, 83, 84, 85, 86, 87, 88, 89, 90, 91, 92, 93, 94, 95, 96, 97, 98, 99]\n"
     ]
    }
   ],
   "source": [
    "start, end, = 1, 100\n",
    "ourList = list(range(start, end,))\n",
    "print(\"summ\", ourList)"
   ]
  },
  {
   "cell_type": "code",
   "execution_count": 29,
   "metadata": {},
   "outputs": [
    {
     "name": "stdout",
     "output_type": "stream",
     "text": [
      "banana\n"
     ]
    }
   ],
   "source": [
    "fruits = ['apple', 'banana', 'cherry']\n",
    "second_item = fruits[1]\n",
    "print(second_item)"
   ]
  },
  {
   "cell_type": "code",
   "execution_count": 30,
   "metadata": {},
   "outputs": [
    {
     "name": "stdout",
     "output_type": "stream",
     "text": [
      "['kiwi', 'banana', 'cherry']\n"
     ]
    }
   ],
   "source": [
    "fruits[0] = \"kiwi\"\n",
    "print(fruits)"
   ]
  },
  {
   "cell_type": "code",
   "execution_count": 31,
   "metadata": {},
   "outputs": [
    {
     "name": "stdout",
     "output_type": "stream",
     "text": [
      "['kiwi', 'banana', 'cherry', 'orange']\n"
     ]
    }
   ],
   "source": [
    "fruits.append(\"orange\")\n",
    "print(fruits)"
   ]
  },
  {
   "cell_type": "code",
   "execution_count": 34,
   "metadata": {},
   "outputs": [
    {
     "name": "stdout",
     "output_type": "stream",
     "text": [
      "['kiwi', 'banana', 'lemon', 'cherry', 'orange']\n"
     ]
    }
   ],
   "source": [
    "fruits.insert(2, \"lemon\")\n",
    "print(fruits)"
   ]
  },
  {
   "cell_type": "code",
   "execution_count": 35,
   "metadata": {},
   "outputs": [
    {
     "name": "stdout",
     "output_type": "stream",
     "text": [
      "['kiwi', 'lemon', 'cherry', 'orange']\n"
     ]
    }
   ],
   "source": [
    "fruits.remove(\"banana\")\n",
    "print(fruits)"
   ]
  },
  {
   "cell_type": "code",
   "execution_count": 37,
   "metadata": {},
   "outputs": [
    {
     "name": "stdout",
     "output_type": "stream",
     "text": [
      "element - 3  kiwi\n",
      "element - 2  melon\n"
     ]
    }
   ],
   "source": [
    "o =[\"apple\", \"banana\", \"cherry\", \"orange\", \"kiwi\", \"melon\", \"mango\"]\n",
    "print(\"element - 3 \", o[-3])\n",
    "print(\"element - 2 \", o[-2])"
   ]
  },
  {
   "cell_type": "code",
   "execution_count": 39,
   "metadata": {},
   "outputs": [
    {
     "name": "stdout",
     "output_type": "stream",
     "text": [
      "element 3 orange\n",
      "element 5 melon\n",
      "element 4 kiwi\n"
     ]
    }
   ],
   "source": [
    "print(\"element 3\", o[3])\n",
    "print(\"element 5\", o[5])\n",
    "print(\"element 4\", o[4])"
   ]
  },
  {
   "cell_type": "code",
   "execution_count": 40,
   "metadata": {},
   "outputs": [
    {
     "name": "stdout",
     "output_type": "stream",
     "text": [
      "quantity 7\n"
     ]
    }
   ],
   "source": [
    "print(\"quantity\", len(o))"
   ]
  },
  {
   "cell_type": "code",
   "execution_count": 41,
   "metadata": {},
   "outputs": [
    {
     "name": "stdout",
     "output_type": "stream",
     "text": [
      "reverse sort ['orange', 'melon', 'mango', 'kiwi', 'cherry', 'banana', 'apple']\n"
     ]
    }
   ],
   "source": [
    "o.sort(reverse = True)\n",
    "print(\"reverse sort\", o)"
   ]
  },
  {
   "cell_type": "code",
   "execution_count": 47,
   "metadata": {},
   "outputs": [
    {
     "name": "stdout",
     "output_type": "stream",
     "text": [
      "2024-08-04 01:24:56.722240\n",
      "month.. August\n"
     ]
    }
   ],
   "source": [
    "#the time on my computer is not correct\n",
    "\n",
    "import datetime as dt \n",
    "d = dt.datetime.now()\n",
    "print(d)\n",
    "print(\"month..\",d.strftime('%B'))"
   ]
  },
  {
   "cell_type": "code",
   "execution_count": 51,
   "metadata": {},
   "outputs": [
    {
     "name": "stdout",
     "output_type": "stream",
     "text": [
      "full name ... Sunday\n"
     ]
    }
   ],
   "source": [
    "print(\"full name ...\",d.strftime('%A'))\n",
    "\n"
   ]
  },
  {
   "cell_type": "code",
   "execution_count": 52,
   "metadata": {},
   "outputs": [
    {
     "name": "stdout",
     "output_type": "stream",
     "text": [
      "Hello, Kate Happy Sunday\n"
     ]
    }
   ],
   "source": [
    "user_name = input('Enter name here:  ')\n",
    "\n",
    "print('Hello,',user_name, 'Happy', d.strftime('%A'))"
   ]
  },
  {
   "cell_type": "code",
   "execution_count": null,
   "metadata": {},
   "outputs": [],
   "source": []
  }
 ],
 "metadata": {
  "kernelspec": {
   "display_name": "Python 3",
   "language": "python",
   "name": "python3"
  },
  "language_info": {
   "codemirror_mode": {
    "name": "ipython",
    "version": 3
   },
   "file_extension": ".py",
   "mimetype": "text/x-python",
   "name": "python",
   "nbconvert_exporter": "python",
   "pygments_lexer": "ipython3",
   "version": "3.12.4"
  }
 },
 "nbformat": 4,
 "nbformat_minor": 2
}
