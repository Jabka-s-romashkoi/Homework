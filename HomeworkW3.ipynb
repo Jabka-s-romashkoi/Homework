{
 "cells": [
  {
   "cell_type": "markdown",
   "metadata": {},
   "source": [
    "**1.**\n",
    "**2.0 , @**\n",
    "**3.When the grammatical spelling is correct but meaningless**\n",
    "**4.Complexity is the enemy of efficiency**\n",
    "**5.\"def\", \"elif\", \"if\", \"else\", \"imput\"**"
   ]
  },
  {
   "cell_type": "code",
   "execution_count": 15,
   "metadata": {},
   "outputs": [
    {
     "name": "stdout",
     "output_type": "stream",
     "text": [
      "97\n",
      "Learning Data Analytics and Python is Great!\n",
      "Hi my name John, I am 7,4, and 30 old today\n"
     ]
    }
   ],
   "source": [
    "a = \"\"\"\n",
    " My name is Kate,\n",
    " my favorite food is a sushi, \n",
    " my dream job is a data analyst or programmer. \"\"\"\n",
    "\n",
    "b = 33\n",
    "c = (\"Text\")\n",
    "d = False\n",
    "e = 5.6 \n",
    "z = [\"apple\", \"peach\", \"melon\"]\n",
    "\n",
    "print(len(a))\n",
    "\n",
    "Savvy = \"Learning Data Analytics and Python is Awesome!\"\n",
    "print(Savvy.replace(\"Awesome\", \"Great\"))\n",
    "\n",
    "name, age, length =\"John\", \"30\", \"7,4\"\n",
    "minibio = (\n",
    "    f\"Hi my name {name}, I am {length}, and {age} old today\")\n",
    "print(minibio)\n",
    "\n"
   ]
  },
  {
   "cell_type": "code",
   "execution_count": 42,
   "metadata": {},
   "outputs": [
    {
     "name": "stdout",
     "output_type": "stream",
     "text": [
      "['candys', 29, 0.9, False, ['pizza', 'beer', 'pop tarts'], '3.21', 'pelmeni', 222]\n",
      "8\n",
      "['3.21', 'pelmeni', 222]\n",
      "['Miami', 'New York', 'St Louis']\n",
      "['Miami', 'New York', 'St Louis']\n",
      "['candys', 29, 0.9, False, ['pizza', 'beer', 'pop tarts'], '3.21', 'pelmeni', 222, '3.21', 'pelmeni', 222, 'Miami', 'New York', 'St Louis']\n"
     ]
    }
   ],
   "source": [
    "random = [\"cookies\", 29, 0.9, False,[\"pizza\", \"beer\", \"pop tarts\"]]\n",
    "random[0] = \"candys\"\n",
    "random.append(\"3.21\")\n",
    "random.append(\"pelmeni\")\n",
    "random.append(222)\n",
    "length = len(random)\n",
    "print(random)\n",
    "print(length)\n",
    "random2 = random[5:8]\n",
    "print(random2)\n",
    "random.extend(random2)\n",
    "\n",
    "SimList = [\"St Louis\", \"New York\", \"Miami\"]\n",
    "SimList.sort()\n",
    "print(SimList)\n",
    "newcopy = SimList\n",
    "print(newcopy)\n",
    "random.extend(SimList)\n",
    "print(random)"
   ]
  },
  {
   "cell_type": "code",
   "execution_count": 55,
   "metadata": {},
   "outputs": [
    {
     "name": "stdout",
     "output_type": "stream",
     "text": [
      "['pen', 'book', 'phone', 'apple', 'peach', 'orange']\n",
      "['pen', 'book', 'phone', 'apple', 'peach', 'orange', 'Ford', 5, 1, 9]\n",
      "['pen', 'book', 'phone', 'peach', 'orange', 'Ford', 5, 1, 9]\n",
      "[]\n",
      "['pen', 'book', 'phone', 'peach', 'orange', 'Ford', 1, 9]\n"
     ]
    }
   ],
   "source": [
    "items = [\"pen\", \"book\", \"phone\"]\n",
    "fruits = [\"apple\", \"peach\", \"orange\"]\n",
    "items.extend(fruits)\n",
    "print(items)\n",
    "items.append(\"Ford\")\n",
    "numbers = [5, 1, 9]\n",
    "mix = (items + numbers)\n",
    "print(mix)\n",
    "mix.pop(3)\n",
    "print(mix)\n",
    "items.clear()\n",
    "print(items)\n",
    "mix.remove(5)\n",
    "print(mix)\n"
   ]
  },
  {
   "cell_type": "code",
   "execution_count": null,
   "metadata": {},
   "outputs": [],
   "source": []
  }
 ],
 "metadata": {
  "kernelspec": {
   "display_name": "Python 3",
   "language": "python",
   "name": "python3"
  },
  "language_info": {
   "codemirror_mode": {
    "name": "ipython",
    "version": 3
   },
   "file_extension": ".py",
   "mimetype": "text/x-python",
   "name": "python",
   "nbconvert_exporter": "python",
   "pygments_lexer": "ipython3",
   "version": "3.12.4"
  }
 },
 "nbformat": 4,
 "nbformat_minor": 2
}
